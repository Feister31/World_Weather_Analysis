{
 "cells": [
  {
   "cell_type": "markdown",
   "id": "1e925ef9",
   "metadata": {},
   "source": [
    "# Challenge 3 create direction layer to draw the route to four cities"
   ]
  },
  {
   "cell_type": "code",
   "execution_count": 1,
   "id": "01120edf",
   "metadata": {},
   "outputs": [],
   "source": [
    "import pandas as pd \n",
    "import requests\n",
    "import gmaps\n",
    "\n",
    "from config import g_key"
   ]
  },
  {
   "cell_type": "code",
   "execution_count": 4,
   "id": "537e6d8b",
   "metadata": {},
   "outputs": [],
   "source": [
    "gmaps.configure(api_key=g_key)"
   ]
  },
  {
   "cell_type": "code",
   "execution_count": 6,
   "id": "a5f0cee1",
   "metadata": {},
   "outputs": [],
   "source": [
    "vacation_df = pd.read_csv(\"./data/Weatherpy_vacation.csv\")"
   ]
  },
  {
   "cell_type": "code",
   "execution_count": 8,
   "id": "98ea6504",
   "metadata": {},
   "outputs": [
    {
     "data": {
      "text/html": [
       "<div>\n",
       "<style scoped>\n",
       "    .dataframe tbody tr th:only-of-type {\n",
       "        vertical-align: middle;\n",
       "    }\n",
       "\n",
       "    .dataframe tbody tr th {\n",
       "        vertical-align: top;\n",
       "    }\n",
       "\n",
       "    .dataframe thead th {\n",
       "        text-align: right;\n",
       "    }\n",
       "</style>\n",
       "<table border=\"1\" class=\"dataframe\">\n",
       "  <thead>\n",
       "    <tr style=\"text-align: right;\">\n",
       "      <th></th>\n",
       "      <th>City_ID</th>\n",
       "      <th>City</th>\n",
       "      <th>Country</th>\n",
       "      <th>Max Temp</th>\n",
       "      <th>Lat</th>\n",
       "      <th>Lng</th>\n",
       "      <th>Hotel Name</th>\n",
       "    </tr>\n",
       "  </thead>\n",
       "  <tbody>\n",
       "    <tr>\n",
       "      <th>0</th>\n",
       "      <td>6</td>\n",
       "      <td>Punta Arenas</td>\n",
       "      <td>CL</td>\n",
       "      <td>44.71</td>\n",
       "      <td>-53.1500</td>\n",
       "      <td>-70.9167</td>\n",
       "      <td>Hotel Hain</td>\n",
       "    </tr>\n",
       "    <tr>\n",
       "      <th>1</th>\n",
       "      <td>9</td>\n",
       "      <td>Port Elizabeth</td>\n",
       "      <td>ZA</td>\n",
       "      <td>68.09</td>\n",
       "      <td>-33.9180</td>\n",
       "      <td>25.5701</td>\n",
       "      <td>39 On Nile Guest House</td>\n",
       "    </tr>\n",
       "    <tr>\n",
       "      <th>2</th>\n",
       "      <td>10</td>\n",
       "      <td>Annau</td>\n",
       "      <td>TM</td>\n",
       "      <td>51.30</td>\n",
       "      <td>37.8876</td>\n",
       "      <td>58.5160</td>\n",
       "      <td>Гостиница \"Уссат инженер\"</td>\n",
       "    </tr>\n",
       "    <tr>\n",
       "      <th>3</th>\n",
       "      <td>13</td>\n",
       "      <td>Donji Milanovac</td>\n",
       "      <td>RS</td>\n",
       "      <td>35.02</td>\n",
       "      <td>44.4627</td>\n",
       "      <td>22.1523</td>\n",
       "      <td>Dream Tricule</td>\n",
       "    </tr>\n",
       "    <tr>\n",
       "      <th>4</th>\n",
       "      <td>14</td>\n",
       "      <td>East London</td>\n",
       "      <td>ZA</td>\n",
       "      <td>69.04</td>\n",
       "      <td>-33.0153</td>\n",
       "      <td>27.9116</td>\n",
       "      <td>Tu Casa</td>\n",
       "    </tr>\n",
       "  </tbody>\n",
       "</table>\n",
       "</div>"
      ],
      "text/plain": [
       "   City_ID             City Country  Max Temp      Lat      Lng  \\\n",
       "0        6     Punta Arenas      CL     44.71 -53.1500 -70.9167   \n",
       "1        9   Port Elizabeth      ZA     68.09 -33.9180  25.5701   \n",
       "2       10            Annau      TM     51.30  37.8876  58.5160   \n",
       "3       13  Donji Milanovac      RS     35.02  44.4627  22.1523   \n",
       "4       14      East London      ZA     69.04 -33.0153  27.9116   \n",
       "\n",
       "                  Hotel Name  \n",
       "0                 Hotel Hain  \n",
       "1     39 On Nile Guest House  \n",
       "2  Гостиница \"Уссат инженер\"  \n",
       "3              Dream Tricule  \n",
       "4                    Tu Casa  "
      ]
     },
     "execution_count": 8,
     "metadata": {},
     "output_type": "execute_result"
    }
   ],
   "source": [
    "vacation_df.head()"
   ]
  },
  {
   "cell_type": "code",
   "execution_count": 9,
   "id": "8f6c4c38",
   "metadata": {},
   "outputs": [],
   "source": [
    "# Using the templat add the hote marks to the heatmap\n",
    "info_box_template = \"\"\"\n",
    "<dl>\n",
    "<dt>Hotel Namne</dt><dd>{Hotel Name}</dd>\n",
    "<dt>City</dt><dd>{City}</dd>\n",
    "<dt>Country</dt><dd>{Country}</dd>\n",
    "<dt>Hotel Name</dt><dd>{Hotel Name} at {Max Temp}</dd>\n",
    "\"\"\"\n",
    "hotel_info = [info_box_template.format(**row) for index, row in vacation_df.iterrows()]\n",
    "locations = vacation_df[[\"Lat\", \"Lng\"]]"
   ]
  },
  {
   "cell_type": "code",
   "execution_count": 10,
   "id": "bd63b540",
   "metadata": {},
   "outputs": [
    {
     "data": {
      "application/vnd.jupyter.widget-view+json": {
       "model_id": "1cede10fb6d04c25a5c4b595180a353e",
       "version_major": 2,
       "version_minor": 0
      },
      "text/plain": [
       "Figure(layout=FigureLayout(height='420px'))"
      ]
     },
     "metadata": {},
     "output_type": "display_data"
    }
   ],
   "source": [
    "marker_layer = gmaps.marker_layer(locations, info_box_content=hotel_info)\n",
    "fig = gmaps.figure()\n",
    "fig.add_layer(marker_layer)\n",
    "\n",
    "fig"
   ]
  },
  {
   "cell_type": "code",
   "execution_count": 25,
   "id": "3b16b87d",
   "metadata": {},
   "outputs": [],
   "source": [
    "vacation_start = vacation_df.loc[vacation_df[\"City\"] == \"Bully-Les-Mines\"]\n",
    "vacation_end = vacation_df.loc[vacation_df[\"City\"] == \"Rovinj\"]\n",
    "vacation_stop1 = vacation_df.loc[vacation_df[\"City\"] == \"Roquebrune-Cap-Martin\"]\n",
    "vacation_stop2 = vacation_df.loc[vacation_df[\"City\"] == \"Cortes\"]\n"
   ]
  },
  {
   "cell_type": "code",
   "execution_count": 26,
   "id": "dab6393b",
   "metadata": {},
   "outputs": [
    {
     "name": "stdout",
     "output_type": "stream",
     "text": [
      "(50.4438, 2.727)\n",
      "(45.08, 13.64)\n",
      "(43.7641, 7.4821)\n",
      "(41.9395, -1.4396)\n"
     ]
    }
   ],
   "source": [
    "start = vacation_start[\"Lat\"].values[0], vacation_start[\"Lng\"].values[0]\n",
    "end = vacation_end[\"Lat\"].values[0], vacation_end[\"Lng\"].values[0]\n",
    "stop1 = vacation_stop1[\"Lat\"].values[0], vacation_stop1[\"Lng\"].values[0]\n",
    "stop2 = vacation_stop2[\"Lat\"].values[0], vacation_stop2[\"Lng\"].values[0]\n",
    "print(start)\n",
    "print(end)\n",
    "print(stop1)\n",
    "print(stop2)"
   ]
  },
  {
   "cell_type": "code",
   "execution_count": 40,
   "id": "691e991f",
   "metadata": {},
   "outputs": [
    {
     "data": {
      "application/vnd.jupyter.widget-view+json": {
       "model_id": "b64c09d8d16041a6ae68aa45155778b2",
       "version_major": 2,
       "version_minor": 0
      },
      "text/plain": [
       "Figure(layout=FigureLayout(height='420px'))"
      ]
     },
     "metadata": {},
     "output_type": "display_data"
    }
   ],
   "source": [
    "fig = gmaps.figure()\n",
    "vacation_itinerary = gmaps.directions_layer(\n",
    "    start,end,waypoints=[stop1,stop2],\n",
    "    travel_mode =\"DRIVING\"\n",
    ")\n",
    "fig.add_layer(vacation_itinerary)\n",
    "fig"
   ]
  },
  {
   "cell_type": "code",
   "execution_count": 33,
   "id": "aa379178",
   "metadata": {},
   "outputs": [],
   "source": [
    "itenerary_df = pd.concat([vacation_start, vacation_end, vacation_stop1, vacation_stop2])"
   ]
  },
  {
   "cell_type": "code",
   "execution_count": 34,
   "id": "202179f5",
   "metadata": {},
   "outputs": [
    {
     "data": {
      "text/html": [
       "<div>\n",
       "<style scoped>\n",
       "    .dataframe tbody tr th:only-of-type {\n",
       "        vertical-align: middle;\n",
       "    }\n",
       "\n",
       "    .dataframe tbody tr th {\n",
       "        vertical-align: top;\n",
       "    }\n",
       "\n",
       "    .dataframe thead th {\n",
       "        text-align: right;\n",
       "    }\n",
       "</style>\n",
       "<table border=\"1\" class=\"dataframe\">\n",
       "  <thead>\n",
       "    <tr style=\"text-align: right;\">\n",
       "      <th></th>\n",
       "      <th>City_ID</th>\n",
       "      <th>City</th>\n",
       "      <th>Country</th>\n",
       "      <th>Max Temp</th>\n",
       "      <th>Lat</th>\n",
       "      <th>Lng</th>\n",
       "      <th>Hotel Name</th>\n",
       "    </tr>\n",
       "  </thead>\n",
       "  <tbody>\n",
       "    <tr>\n",
       "      <th>112</th>\n",
       "      <td>287</td>\n",
       "      <td>Bully-Les-Mines</td>\n",
       "      <td>FR</td>\n",
       "      <td>37.15</td>\n",
       "      <td>50.4438</td>\n",
       "      <td>2.7270</td>\n",
       "      <td>La Maison Rouge Qualys Hotel</td>\n",
       "    </tr>\n",
       "    <tr>\n",
       "      <th>187</th>\n",
       "      <td>508</td>\n",
       "      <td>Rovinj</td>\n",
       "      <td>HR</td>\n",
       "      <td>49.19</td>\n",
       "      <td>45.0800</td>\n",
       "      <td>13.6400</td>\n",
       "      <td>Hotel Monte Mulini</td>\n",
       "    </tr>\n",
       "    <tr>\n",
       "      <th>88</th>\n",
       "      <td>216</td>\n",
       "      <td>Roquebrune-Cap-Martin</td>\n",
       "      <td>FR</td>\n",
       "      <td>52.54</td>\n",
       "      <td>43.7641</td>\n",
       "      <td>7.4821</td>\n",
       "      <td>Le Méridien Beach Plaza</td>\n",
       "    </tr>\n",
       "    <tr>\n",
       "      <th>73</th>\n",
       "      <td>177</td>\n",
       "      <td>Cortes</td>\n",
       "      <td>ES</td>\n",
       "      <td>49.03</td>\n",
       "      <td>41.9395</td>\n",
       "      <td>-1.4396</td>\n",
       "      <td>Rincon de bu</td>\n",
       "    </tr>\n",
       "  </tbody>\n",
       "</table>\n",
       "</div>"
      ],
      "text/plain": [
       "     City_ID                   City Country  Max Temp      Lat      Lng  \\\n",
       "112      287        Bully-Les-Mines      FR     37.15  50.4438   2.7270   \n",
       "187      508                 Rovinj      HR     49.19  45.0800  13.6400   \n",
       "88       216  Roquebrune-Cap-Martin      FR     52.54  43.7641   7.4821   \n",
       "73       177                 Cortes      ES     49.03  41.9395  -1.4396   \n",
       "\n",
       "                       Hotel Name  \n",
       "112  La Maison Rouge Qualys Hotel  \n",
       "187            Hotel Monte Mulini  \n",
       "88        Le Méridien Beach Plaza  \n",
       "73                   Rincon de bu  "
      ]
     },
     "execution_count": 34,
     "metadata": {},
     "output_type": "execute_result"
    }
   ],
   "source": [
    "itenerary_df"
   ]
  },
  {
   "cell_type": "code",
   "execution_count": 36,
   "id": "54354a95",
   "metadata": {},
   "outputs": [
    {
     "data": {
      "text/html": [
       "<div>\n",
       "<style scoped>\n",
       "    .dataframe tbody tr th:only-of-type {\n",
       "        vertical-align: middle;\n",
       "    }\n",
       "\n",
       "    .dataframe tbody tr th {\n",
       "        vertical-align: top;\n",
       "    }\n",
       "\n",
       "    .dataframe thead th {\n",
       "        text-align: right;\n",
       "    }\n",
       "</style>\n",
       "<table border=\"1\" class=\"dataframe\">\n",
       "  <thead>\n",
       "    <tr style=\"text-align: right;\">\n",
       "      <th></th>\n",
       "      <th>City_ID</th>\n",
       "      <th>City</th>\n",
       "      <th>Country</th>\n",
       "      <th>Max Temp</th>\n",
       "      <th>Lat</th>\n",
       "      <th>Lng</th>\n",
       "      <th>Hotel Name</th>\n",
       "    </tr>\n",
       "  </thead>\n",
       "  <tbody>\n",
       "    <tr>\n",
       "      <th>0</th>\n",
       "      <td>287</td>\n",
       "      <td>Bully-Les-Mines</td>\n",
       "      <td>FR</td>\n",
       "      <td>37.15</td>\n",
       "      <td>50.4438</td>\n",
       "      <td>2.7270</td>\n",
       "      <td>La Maison Rouge Qualys Hotel</td>\n",
       "    </tr>\n",
       "    <tr>\n",
       "      <th>1</th>\n",
       "      <td>508</td>\n",
       "      <td>Rovinj</td>\n",
       "      <td>HR</td>\n",
       "      <td>49.19</td>\n",
       "      <td>45.0800</td>\n",
       "      <td>13.6400</td>\n",
       "      <td>Hotel Monte Mulini</td>\n",
       "    </tr>\n",
       "    <tr>\n",
       "      <th>2</th>\n",
       "      <td>216</td>\n",
       "      <td>Roquebrune-Cap-Martin</td>\n",
       "      <td>FR</td>\n",
       "      <td>52.54</td>\n",
       "      <td>43.7641</td>\n",
       "      <td>7.4821</td>\n",
       "      <td>Le Méridien Beach Plaza</td>\n",
       "    </tr>\n",
       "    <tr>\n",
       "      <th>3</th>\n",
       "      <td>177</td>\n",
       "      <td>Cortes</td>\n",
       "      <td>ES</td>\n",
       "      <td>49.03</td>\n",
       "      <td>41.9395</td>\n",
       "      <td>-1.4396</td>\n",
       "      <td>Rincon de bu</td>\n",
       "    </tr>\n",
       "  </tbody>\n",
       "</table>\n",
       "</div>"
      ],
      "text/plain": [
       "   City_ID                   City Country  Max Temp      Lat      Lng  \\\n",
       "0      287        Bully-Les-Mines      FR     37.15  50.4438   2.7270   \n",
       "1      508                 Rovinj      HR     49.19  45.0800  13.6400   \n",
       "2      216  Roquebrune-Cap-Martin      FR     52.54  43.7641   7.4821   \n",
       "3      177                 Cortes      ES     49.03  41.9395  -1.4396   \n",
       "\n",
       "                     Hotel Name  \n",
       "0  La Maison Rouge Qualys Hotel  \n",
       "1            Hotel Monte Mulini  \n",
       "2       Le Méridien Beach Plaza  \n",
       "3                  Rincon de bu  "
      ]
     },
     "execution_count": 36,
     "metadata": {},
     "output_type": "execute_result"
    }
   ],
   "source": [
    "itenerary_df.reset_index(drop=True)"
   ]
  },
  {
   "cell_type": "code",
   "execution_count": 37,
   "id": "eeeb7421",
   "metadata": {},
   "outputs": [],
   "source": [
    "# Using the templat add the hote marks to the heatmap\n",
    "info_box_template = \"\"\"\n",
    "<dl>\n",
    "<dt>Hotel Namne</dt><dd>{Hotel Name}</dd>\n",
    "<dt>City</dt><dd>{City}</dd>\n",
    "<dt>Country</dt><dd>{Country}</dd>\n",
    "<dt>Hotel Name</dt><dd>{Hotel Name} at {Max Temp}</dd>\n",
    "\"\"\"\n",
    "hotel_info = [info_box_template.format(**row) for index, row in itenerary_df.iterrows()]\n",
    "locations = itenerary_df[[\"Lat\", \"Lng\"]]"
   ]
  },
  {
   "cell_type": "code",
   "execution_count": 39,
   "id": "7424b24a",
   "metadata": {
    "scrolled": true
   },
   "outputs": [
    {
     "data": {
      "application/vnd.jupyter.widget-view+json": {
       "model_id": "a2819d1a9a484a90ae2a08f926f003a1",
       "version_major": 2,
       "version_minor": 0
      },
      "text/plain": [
       "Figure(layout=FigureLayout(height='420px'))"
      ]
     },
     "metadata": {},
     "output_type": "display_data"
    }
   ],
   "source": [
    "marker_layer = gmaps.marker_layer(locations, info_box_content=hotel_info)\n",
    "fig = gmaps.figure()\n",
    "fig.add_layer(marker_layer)\n",
    "\n",
    "fig"
   ]
  },
  {
   "cell_type": "code",
   "execution_count": null,
   "id": "3d3b5fbb",
   "metadata": {},
   "outputs": [],
   "source": []
  }
 ],
 "metadata": {
  "kernelspec": {
   "display_name": "pythonData",
   "language": "python",
   "name": "pythondata"
  },
  "language_info": {
   "codemirror_mode": {
    "name": "ipython",
    "version": 3
   },
   "file_extension": ".py",
   "mimetype": "text/x-python",
   "name": "python",
   "nbconvert_exporter": "python",
   "pygments_lexer": "ipython3",
   "version": "3.9.7"
  }
 },
 "nbformat": 4,
 "nbformat_minor": 5
}
